{
 "cells": [
  {
   "cell_type": "code",
   "execution_count": null,
   "metadata": {},
   "outputs": [],
   "source": [
    "try:\n",
    "    all_features = pd.from_csv('all_features.csv')\n",
    "except FileNotFoundError:\n",
    "    all_dt = RvBsm['Device & Trip'].unique()\n",
    "    all_features = pd.from_csv('features/'+all_dt.iloc[0]+'.csv')\n",
    "    for dt in all_dt[1:]:\n",
    "        all_features = all_features.append(pd.from_csv('features/'+dt+'.csv'))\n",
    "    all_features.to_csv('all_features.csv')\n",
    "all_features.head()"
   ]
  },
  {
   "cell_type": "code",
   "execution_count": null,
   "metadata": {},
   "outputs": [],
   "source": [
    "try:\n",
    "    train = pd.read_csv('train.csv')\n",
    "    test = pd.read_csv('test.csv')\n",
    "except FileNotFoundError:\n",
    "    split_index = (len(all_features) * 0.8) //1\n",
    "\n",
    "    train_y = all_features['id'].iloc[:split_index]\n",
    "    test_y = all_features['id'].iloc[split_index:]\n",
    "    train_X = all_features.iloc[split_index:].drop( 'id', axis = 1 )\n",
    "    test_X = all_features.iloc[:split_index].drop( 'id', axis = 1 )\n",
    "\n",
    "    train_features_selected = select_features( train_x, train_y, fdr_level = 0.05 )\n",
    "\n",
    "    train = train_features_selected.copy()\n",
    "    train['id'] = train_y\n",
    "\n",
    "    test = test_x[ train_features_selected.columns ].copy()\n",
    "    test['id'] = test_y\n",
    "\n",
    "    train.to_csv('train.csv', index = None )\n",
    "    test.to_csv('test.csv', index = None )"
   ]
  },
  {
   "cell_type": "code",
   "execution_count": null,
   "metadata": {},
   "outputs": [],
   "source": [
    "train = pd.read_csv( train_file )\n",
    "test = pd.read_csv( test_file )\n",
    "\n",
    "train_X = train.drop('id', axis = 1 ).values\n",
    "test_X = test.drop('id', axis = 1 ).values\n",
    "\n",
    "train_y = train['id'].values\n",
    "test_y = test['id'].values\n",
    "\n",
    "classifiers = [make_pipeline( StandardScaler(), LR()),\n",
    "    make_pipeline( MinMaxScaler(), LR()),\n",
    "    RF(n_estimators = 100, min_samples_leaf = 5)]\n",
    "\n",
    "for clf in classifiers:\n",
    "    clf.fit(train_X, train_y)\n",
    "    p = clf.predict_proba(test_X)[:,1]\n",
    "    p_bin = clf.predict(test_X)\n",
    "\n",
    "    auc = AUC(test_y, p )\n",
    "    acc = accuracy(test_y, p_bin )"
   ]
  }
 ],
 "metadata": {
  "kernelspec": {
   "display_name": "Python 3",
   "language": "python",
   "name": "python3"
  },
  "language_info": {
   "codemirror_mode": {
    "name": "ipython",
    "version": 3
   },
   "file_extension": ".py",
   "mimetype": "text/x-python",
   "name": "python",
   "nbconvert_exporter": "python",
   "pygments_lexer": "ipython3",
   "version": "3.7.0"
  }
 },
 "nbformat": 4,
 "nbformat_minor": 2
}
