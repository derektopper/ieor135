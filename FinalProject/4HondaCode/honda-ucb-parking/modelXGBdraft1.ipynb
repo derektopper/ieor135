{
 "cells": [
  {
   "cell_type": "code",
   "execution_count": 17,
   "metadata": {},
   "outputs": [
    {
     "name": "stdout",
     "output_type": "stream",
     "text": [
      "Requirement already satisfied: d2l in /Users/ahule/anaconda3/lib/python3.6/site-packages (0.8.7)\n",
      "Requirement already satisfied: matplotlib in /Users/ahule/anaconda3/lib/python3.6/site-packages (from d2l) (3.0.2)\n",
      "Requirement already satisfied: jupyter in /Users/ahule/anaconda3/lib/python3.6/site-packages (from d2l) (1.0.0)\n",
      "Requirement already satisfied: numpy in /Users/ahule/anaconda3/lib/python3.6/site-packages (from d2l) (1.14.5)\n",
      "Requirement already satisfied: cycler>=0.10 in /Users/ahule/anaconda3/lib/python3.6/site-packages (from matplotlib->d2l) (0.10.0)\n",
      "Requirement already satisfied: kiwisolver>=1.0.1 in /Users/ahule/anaconda3/lib/python3.6/site-packages (from matplotlib->d2l) (1.0.1)\n",
      "Requirement already satisfied: pyparsing!=2.0.4,!=2.1.2,!=2.1.6,>=2.0.1 in /Users/ahule/anaconda3/lib/python3.6/site-packages (from matplotlib->d2l) (2.1.4)\n",
      "Requirement already satisfied: python-dateutil>=2.1 in /Users/ahule/anaconda3/lib/python3.6/site-packages (from matplotlib->d2l) (2.6.0)\n",
      "Requirement already satisfied: six in /Users/ahule/anaconda3/lib/python3.6/site-packages (from cycler>=0.10->matplotlib->d2l) (1.10.0)\n",
      "Requirement already satisfied: setuptools in /Users/ahule/anaconda3/lib/python3.6/site-packages (from kiwisolver>=1.0.1->matplotlib->d2l) (40.8.0)\n"
     ]
    }
   ],
   "source": [
    "!pip install d2l\n",
    "\n",
    "\n",
    "%matplotlib inline\n",
    "import d2l\n",
    "from mxnet import autograd, gluon, init, nd\n",
    "from mxnet.gluon import data as gdata, loss as gloss, nn, utils\n",
    "import numpy as np\n",
    "import pandas as pd"
   ]
  },
  {
   "cell_type": "code",
   "execution_count": 18,
   "metadata": {},
   "outputs": [],
   "source": [
    "all_features = pd.concat((train_data.iloc[:, 1:-1], test_data.iloc[:, 1:]))\n",
    "\n",
    "numeric_features = all_features.dtypes[all_features.dtypes != 'object'].index\n",
    "all_features[numeric_features] = all_features[numeric_features].apply(\n",
    "    lambda x: (x - x.mean()) / (x.std()))\n",
    "# after standardizing the data all means vanish, hence we can set missing values to 0\n",
    "all_features = all_features.fillna(0)\n",
    "\n",
    "# Dummy_na=True refers to a missing value being a legal eigenvalue, and creates an indicative feature for it.\n",
    "all_features = pd.get_dummies(all_features, dummy_na=True)\n",
    "all_features.shape\n",
    "\n",
    "n_train = train_data.shape[0]\n",
    "train_features = nd.array(all_features[:n_train].values)\n",
    "test_features = nd.array(all_features[n_train:].values)\n",
    "train_labels = nd.array(train_data.SalePrice.values).reshape((-1, 1))"
   ]
  },
  {
   "cell_type": "code",
   "execution_count": 19,
   "metadata": {
    "collapsed": true
   },
   "outputs": [],
   "source": [
    "# TRAINING\n",
    "\n",
    "loss = gloss.L2Loss()\n",
    "\n",
    "def get_net():\n",
    "    net = nn.Sequential()\n",
    "    \n",
    "    \n",
    "    \n",
    "    net.add(nn.Dense(1024, activation='relu'))\n",
    "    net.add(nn.BatchNorm())\n",
    "    net.add(nn.Dropout(.5))\n",
    "    \n",
    "    net.add(nn.Dense(1))\n",
    "    net.add(nn.BatchNorm())\n",
    "    net.add(nn.Dropout(.5))\n",
    "    \n",
    "    #net.add(nn.Dense(512, activation='relu'))\n",
    "    #net.add(nn.BatchNorm())\n",
    "    #net.add(nn.Dropout(.5))\n",
    "    \n",
    "    net.add(nn.Dense(128, activation='relu'))\n",
    "    net.add(nn.BatchNorm())\n",
    "    net.add(nn.Dropout(.5))\n",
    "    net.add(nn.Dense(64, activation='relu'))\n",
    "    net.add(nn.BatchNorm())\n",
    "    net.add(nn.Dropout(.5))\n",
    "    net.add(nn.Dense(1))\n",
    "    net.initialize()\n",
    "    return net"
   ]
  },
  {
   "cell_type": "code",
   "execution_count": 20,
   "metadata": {
    "collapsed": true
   },
   "outputs": [],
   "source": [
    "def log_rmse(net, features, labels):\n",
    "    # To further stabilize the value when the logarithm is taken, set the value less than 1 as 1.\n",
    "    clipped_preds = nd.clip(net(features), 1, float('inf'))\n",
    "    rmse = nd.sqrt(2 * loss(clipped_preds.log(), labels.log()).mean())\n",
    "    return rmse.asscalar()"
   ]
  },
  {
   "cell_type": "code",
   "execution_count": 21,
   "metadata": {
    "collapsed": true
   },
   "outputs": [],
   "source": [
    "def train(net, train_features, train_labels, test_features, test_labels,\n",
    "          num_epochs, learning_rate, weight_decay, batch_size):\n",
    "    train_ls, test_ls = [], []\n",
    "    train_iter = gdata.DataLoader(gdata.ArrayDataset(\n",
    "        train_features, train_labels), batch_size, shuffle=True)\n",
    "    # The Adam optimization algorithm is used here.\n",
    "    trainer = gluon.Trainer(net.collect_params(), 'adam', {\n",
    "        'learning_rate': learning_rate, 'wd': weight_decay})\n",
    "    for epoch in range(num_epochs):\n",
    "        for X, y in train_iter:\n",
    "            with autograd.record():\n",
    "                l = loss(net(X), y)\n",
    "            l.backward()\n",
    "            trainer.step(batch_size)\n",
    "        train_ls.append(log_rmse(net, train_features, train_labels))\n",
    "        if test_labels is not None:\n",
    "            test_ls.append(log_rmse(net, test_features, test_labels))\n",
    "    return train_ls, test_ls"
   ]
  },
  {
   "cell_type": "code",
   "execution_count": 22,
   "metadata": {},
   "outputs": [],
   "source": [
    "# KFOLD CV\n",
    "def get_k_fold_data(k, i, X, y):\n",
    "    assert k > 1\n",
    "    fold_size = X.shape[0] // k\n",
    "    X_train, y_train = None, None\n",
    "    for j in range(k):\n",
    "        idx = slice(j * fold_size, (j + 1) * fold_size)\n",
    "        X_part, y_part = X[idx, :], y[idx]\n",
    "        if j == i:\n",
    "            X_valid, y_valid = X_part, y_part\n",
    "        elif X_train is None:\n",
    "            X_train, y_train = X_part, y_part\n",
    "        else:\n",
    "            X_train = nd.concat(X_train, X_part, dim=0)\n",
    "            y_train = nd.concat(y_train, y_part, dim=0)\n",
    "    return X_train, y_train, X_valid, y_valid\n",
    "\n"
   ]
  },
  {
   "cell_type": "code",
   "execution_count": 23,
   "metadata": {
    "collapsed": true
   },
   "outputs": [],
   "source": [
    "def k_fold(k, X_train, y_train, num_epochs,\n",
    "           learning_rate, weight_decay, batch_size):\n",
    "    train_l_sum, valid_l_sum = 0, 0\n",
    "    for i in range(k):\n",
    "        data = get_k_fold_data(k, i, X_train, y_train)\n",
    "        net = get_net()\n",
    "        train_ls, valid_ls = train(net, *data, num_epochs, learning_rate,\n",
    "                                   weight_decay, batch_size)\n",
    "        train_l_sum += train_ls[-1]\n",
    "        valid_l_sum += valid_ls[-1]\n",
    "        #HASH OUT??\n",
    "        if i == 0:\n",
    "            d2l.semilogy(range(1, num_epochs + 1), train_ls, 'epochs', 'rmse',\n",
    "                        range(1, num_epochs + 1), valid_ls,\n",
    "                        ['train', 'valid'])\n",
    "        print('fold %d, train rmse: %f, valid rmse: %f' % (\n",
    "            i, train_ls[-1], valid_ls[-1]))\n",
    "        #??\n",
    "    return train_l_sum / k, valid_l_sum / k"
   ]
  },
  {
   "cell_type": "code",
   "execution_count": 24,
   "metadata": {},
   "outputs": [],
   "source": [
    "from sklearn.cross_decomposition import CCA\n",
    "import matplotlib.pyplot as plt\n",
    "from sklearn.preprocessing import normalize\n",
    "from sklearn.model_selection import train_test_split\n",
    "from sklearn.metrics import r2_score\n",
    "\n",
    "#!pip install xgboost\n",
    "#import xgboost\n",
    "\n",
    "def check(X_train, y_train):\n",
    "    xgb = xgboost.XGBRegressor(n_estimators=100, learning_rate=0.08, gamma=0, subsample=0.75,\n",
    "                               colsample_bytree=1, max_depth=7)\n",
    "\n",
    "    X_train, X_test, y_train, y_test = train_test_split(X_train, y_train)\n",
    "\n",
    "    xgb.fit(X_train, y_train)\n",
    "    pred = xgb.predict(X_test)\n",
    "    print('xgb:', r2_score(y_test, pred))\n",
    "    \n",
    "    return xgb\n",
    "    \n",
    "def preprocess(dat, test=False, obj_features=None, num_features=None):\n",
    "    data = dat.copy()\n",
    "    data = data[data.dtypes[data.dtypes != 'object']]"
   ]
  },
  {
   "cell_type": "code",
   "execution_count": null,
   "metadata": {
    "collapsed": true
   },
   "outputs": [],
   "source": []
  },
  {
   "cell_type": "code",
   "execution_count": null,
   "metadata": {
    "collapsed": true
   },
   "outputs": [],
   "source": []
  }
 ],
 "metadata": {
  "kernelspec": {
   "display_name": "Python 3",
   "language": "python",
   "name": "python3"
  },
  "language_info": {
   "codemirror_mode": {
    "name": "ipython",
    "version": 3
   },
   "file_extension": ".py",
   "mimetype": "text/x-python",
   "name": "python",
   "nbconvert_exporter": "python",
   "pygments_lexer": "ipython3",
   "version": "3.6.5"
  }
 },
 "nbformat": 4,
 "nbformat_minor": 2
}
