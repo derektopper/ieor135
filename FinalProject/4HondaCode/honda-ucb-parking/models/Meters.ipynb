{
 "cells": [
  {
   "cell_type": "code",
   "execution_count": null,
   "metadata": {},
   "outputs": [],
   "source": [
    "#Import Libraries\n",
    "import pandas as pd\n",
    "import json\n",
    "import numpy as np\n",
    "import re\n",
    "import random\n"
   ]
  },
  {
   "cell_type": "code",
   "execution_count": null,
   "metadata": {},
   "outputs": [],
   "source": [
    "#Format meter data to be compatible with Pandas\n",
    "with open('data/parkingMeters.json') as f:\n",
    "    data = json.load(f)\n",
    "\n",
    "json_df_format = {}\n",
    "\n",
    "for meter in data['features']:\n",
    "  attributes = meter.pop('attributes')\n",
    "  geometry = meter.pop('geometry')\n",
    "  attributes['LATITUDE'] = geometry['y']\n",
    "  attributes['LONGITUDE'] = geometry['x']\n",
    "  meter_id = attributes.pop('METER_ID')\n",
    "  json_df_format[meter_id] = attributes"
   ]
  },
  {
   "cell_type": "code",
   "execution_count": null,
   "metadata": {},
   "outputs": [],
   "source": [
    "#Import formatted meter data\n",
    "with open('data/formattedMeterData.json', 'w') as fp:\n",
    "    json.dump(json_df_format, fp)\n",
    "meters = pd.read_json('data/formattedMeterData.json', orient='index')\n",
    "\n",
    "#Remove Taxi Zones\n",
    "meters['TAXI_ZONE_HOURS'] = meters['TAXI_ZONE_HOURS'].apply(lambda x: str(x))\n",
    "meters = meters[meters['TAXI_ZONE_HOURS'] == 'None']\n",
    "\n",
    "#Remove Handicap Zones\n",
    "meters = meters[meters['HANDICAP'] == 0]\n",
    "\n",
    "#Text to Hour of Day\n",
    "text_to_hod = {'3AM':3, '4PM':16, '3PM':15, '7AM':7, '6PM':18, '10AM':10, '9AM':9, '6AM':6, 'None':0, '0':0}\n",
    "meters['TOW_AWAY_HOURS'] = meters['TOW_AWAY_HOURS'].apply(lambda x: str(x))\n",
    "meters['TOW_AWAY_START'] = meters['TOW_AWAY_HOURS'].apply(lambda x: text_to_hod[x.split('-')[0].replace(\" \",\"\")])\n",
    "meters['TOW_AWAY_END'] = meters['TOW_AWAY_HOURS'].apply(lambda x: text_to_hod[x.split('-')[-1].replace(\" \",\"\")])\n",
    "\n",
    "#Only extract meter locations\n",
    "meters = meters[['LATITUDE','LONGITUDE']]\n",
    "meters.head()"
   ]
  }
 ],
 "metadata": {
  "kernelspec": {
   "display_name": "Python 3",
   "language": "python",
   "name": "python3"
  },
  "language_info": {
   "codemirror_mode": {
    "name": "ipython",
    "version": 3
   },
   "file_extension": ".py",
   "mimetype": "text/x-python",
   "name": "python",
   "nbconvert_exporter": "python",
   "pygments_lexer": "ipython3",
   "version": "3.6.7"
  }
 },
 "nbformat": 4,
 "nbformat_minor": 2
}
