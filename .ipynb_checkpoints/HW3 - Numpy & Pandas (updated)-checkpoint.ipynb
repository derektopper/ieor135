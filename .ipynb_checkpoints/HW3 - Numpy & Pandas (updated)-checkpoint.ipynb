{
 "cells": [
  {
   "cell_type": "markdown",
   "metadata": {},
   "source": [
    "![data-x](http://oi64.tinypic.com/o858n4.jpg)\n",
    "\n",
    "___"
   ]
  },
  {
   "cell_type": "markdown",
   "metadata": {},
   "source": [
    "# Homework 03\n"
   ]
  },
  {
   "cell_type": "markdown",
   "metadata": {},
   "source": [
    "## Name: Derek Topper"
   ]
  },
  {
   "cell_type": "markdown",
   "metadata": {},
   "source": [
    "## Student ID: 26861675"
   ]
  },
  {
   "cell_type": "markdown",
   "metadata": {},
   "source": [
    "## Note: Please print the output of each question in a new cell below your code"
   ]
  },
  {
   "cell_type": "markdown",
   "metadata": {},
   "source": [
    "\n",
    "\n",
    "## Numpy Introduction\n",
    "\n",
    "\n",
    "__1a) Create two numpy arrays (a and b). a should be all integers between 25-34 (inclusive), and b should be ten evenly spaced numbers between 1-6. Print all the results below and store them seperately:__\n",
    "\n",
    "\n",
    "i) Cube (i.e. raise to the power of 3) all the elements in both arrays (element-wise)  \n",
    "ii)  Add both the cubed arrays (e.g., [1,2] + [3,4] = [4,6])  \n",
    "iii)  Sum the elements with even indices of the added array.  \n",
    "iv)  Take the square root of the added array (element-wise square root)\n",
    "\n",
    "\n"
   ]
  },
  {
   "cell_type": "code",
   "execution_count": 1,
   "metadata": {},
   "outputs": [
    {
     "name": "stdout",
     "output_type": "stream",
     "text": [
      "a =  [25 26 27 28 29 30 31 32 33 34]\n",
      "b =  [1.  1.5 2.  2.5 3.  3.5 4.  4.5 5.  5.5]\n"
     ]
    }
   ],
   "source": [
    "# your code here\n",
    "import numpy as np\n",
    "a = np.arange(25,35)\n",
    "print(\"a = \", a)\n",
    "b = np.arange(1, 6, .5)\n",
    "print(\"b = \", b)"
   ]
  },
  {
   "cell_type": "code",
   "execution_count": 2,
   "metadata": {},
   "outputs": [
    {
     "name": "stdout",
     "output_type": "stream",
     "text": [
      "i.a)  [15625 17576 19683 21952 24389 27000 29791 32768 35937 39304]\n",
      "i.b)  [  1.      3.375   8.     15.625  27.     42.875  64.     91.125 125.\n",
      " 166.375]\n",
      "ii)  [15626.    17579.375 19691.    21967.625 24416.    27042.875 29855.\n",
      " 32859.125 36062.    39470.375]\n",
      "iii)  138919.375\n",
      "iv)  [125.00399994 132.58723543 140.32462364 148.21479346 156.25619988\n",
      " 164.44717997 172.7859948  181.27086087 189.89997367 198.67152539]\n"
     ]
    }
   ],
   "source": [
    "a = a**3\n",
    "print(\"i.a) \", a)\n",
    "b = b**3\n",
    "print(\"i.b) \", b)\n",
    "c = a + b\n",
    "print(\"ii) \", c)\n",
    "d = np.arange(1, 10, 2)\n",
    "e = sum(c[d])\n",
    "print(\"iii) \", e)\n",
    "f = np.sqrt(c)\n",
    "print(\"iv) \", f)"
   ]
  },
  {
   "cell_type": "markdown",
   "metadata": {},
   "source": [
    "__1b) Append b to a, reshape the appended array so that it is a 4x5, 2d array and store the results in a variable called m. Print m.__\n"
   ]
  },
  {
   "cell_type": "code",
   "execution_count": 3,
   "metadata": {},
   "outputs": [
    {
     "name": "stdout",
     "output_type": "stream",
     "text": [
      "[[1.56250e+04 1.75760e+04 1.96830e+04 2.19520e+04 2.43890e+04]\n",
      " [2.70000e+04 2.97910e+04 3.27680e+04 3.59370e+04 3.93040e+04]\n",
      " [1.00000e+00 3.37500e+00 8.00000e+00 1.56250e+01 2.70000e+01]\n",
      " [4.28750e+01 6.40000e+01 9.11250e+01 1.25000e+02 1.66375e+02]]\n"
     ]
    }
   ],
   "source": [
    "# your code here\n",
    "m = np.append(a,b)\n",
    "m = m.reshape(4,5)\n",
    "print(m)"
   ]
  },
  {
   "cell_type": "markdown",
   "metadata": {},
   "source": [
    "__1c) Extract the third and the fourth column of the m matrix. Store the resulting 4x2 matrix in a new variable called m2. Print m2.__\n"
   ]
  },
  {
   "cell_type": "code",
   "execution_count": 4,
   "metadata": {},
   "outputs": [
    {
     "name": "stdout",
     "output_type": "stream",
     "text": [
      "[[1.9683e+04 2.1952e+04]\n",
      " [3.2768e+04 3.5937e+04]\n",
      " [8.0000e+00 1.5625e+01]\n",
      " [9.1125e+01 1.2500e+02]]\n"
     ]
    }
   ],
   "source": [
    "# your code here\n",
    "m2 = m[:,2:4]\n",
    "print(m2)"
   ]
  },
  {
   "cell_type": "markdown",
   "metadata": {},
   "source": [
    "__1d) Take the dot product of m2 and m store the results in a matrix called m3. Print m3.\n",
    "Note that Dot product of two matrices A.B =A<sup>T</sup>B__"
   ]
  },
  {
   "cell_type": "code",
   "execution_count": 5,
   "metadata": {},
   "outputs": [
    {
     "name": "stdout",
     "output_type": "stream",
     "text": [
      "[[8.85635083e+08 9.77680259e+08]\n",
      " [1.36800900e+09 1.51024781e+09]\n",
      " [1.99526176e+09 2.20135731e+09]\n",
      " [6.73586984e+05 7.42912875e+05]\n",
      " [4.26185692e+06 4.70243712e+06]]\n"
     ]
    }
   ],
   "source": [
    "# your code here\n",
    "m3 = np.dot(m.reshape(5,4), m2)\n",
    "print(m3)"
   ]
  },
  {
   "cell_type": "markdown",
   "metadata": {},
   "source": [
    "## Numpy conditions"
   ]
  },
  {
   "cell_type": "markdown",
   "metadata": {},
   "source": [
    "\n",
    "__2a) Create a numpy array called 'f' where the values are cosine(x) for x from 0 to pi with 50 equally spaced values in f__\n",
    "* Print f\n",
    "* Use condition on the array and print an array that is True when f >= 1/2 and False when f < 1/2\n",
    "* Create and print an array sequence that has only those values where f>= 1/2\n",
    "\n"
   ]
  },
  {
   "cell_type": "code",
   "execution_count": 6,
   "metadata": {},
   "outputs": [
    {
     "name": "stdout",
     "output_type": "stream",
     "text": [
      "f:  [ 1.00000000e+00  9.98026728e-01  9.92114701e-01  9.82287251e-01\n",
      "  9.68583161e-01  9.51056516e-01  9.29776486e-01  9.04827052e-01\n",
      "  8.76306680e-01  8.44327926e-01  8.09016994e-01  7.70513243e-01\n",
      "  7.28968627e-01  6.84547106e-01  6.37423990e-01  5.87785252e-01\n",
      "  5.35826795e-01  4.81753674e-01  4.25779292e-01  3.68124553e-01\n",
      "  3.09016994e-01  2.48689887e-01  1.87381315e-01  1.25333234e-01\n",
      "  6.27905195e-02 -1.60812265e-16 -6.27905195e-02 -1.25333234e-01\n",
      " -1.87381315e-01 -2.48689887e-01 -3.09016994e-01 -3.68124553e-01\n",
      " -4.25779292e-01 -4.81753674e-01 -5.35826795e-01 -5.87785252e-01\n",
      " -6.37423990e-01 -6.84547106e-01 -7.28968627e-01 -7.70513243e-01\n",
      " -8.09016994e-01 -8.44327926e-01 -8.76306680e-01 -9.04827052e-01\n",
      " -9.29776486e-01 -9.51056516e-01 -9.68583161e-01 -9.82287251e-01\n",
      " -9.92114701e-01 -9.98026728e-01]\n",
      "F Boolean:  [1. 1. 1. 1. 1. 1. 1. 1. 1. 1. 1. 1. 1. 1. 1. 1. 1. 0. 0. 0. 0. 0. 0. 0.\n",
      " 0. 0. 0. 0. 0. 0. 0. 0. 0. 0. 0. 0. 0. 0. 0. 0. 0. 0. 0. 0. 0. 0. 0. 0.\n",
      " 0. 0.]\n",
      "[1.0, 0.9980267284282716, 0.9921147013144779, 0.9822872507286887, 0.9685831611286311, 0.9510565162951535, 0.9297764858882513, 0.9048270524660195, 0.8763066800438636, 0.8443279255020151, 0.8090169943749475, 0.7705132427757891, 0.7289686274214116, 0.6845471059286886, 0.6374239897486896, 0.587785252292473, 0.5358267949789965]\n"
     ]
    }
   ],
   "source": [
    "# your code here\n",
    "import math\n",
    "f = np.arange(0,math.pi,math.pi/50)\n",
    "f = np.cos(f)\n",
    "print(\"f: \", f)\n",
    "\n",
    "newarr = np.array([])\n",
    "for each in f:\n",
    "    if each >= (1/2):\n",
    "        newarr = np.append(newarr, True)\n",
    "    else: \n",
    "        newarr = np.append(newarr, False)\n",
    "print(\"F Boolean: \", newarr)\n",
    "\n",
    "new_list = [i for i in f if i >= 1/2]\n",
    "print(new_list)"
   ]
  },
  {
   "cell_type": "markdown",
   "metadata": {},
   "source": [
    "## NumPy and 2 Variable Prediction"
   ]
  },
  {
   "cell_type": "markdown",
   "metadata": {},
   "source": [
    "__Let 'x' be the number of miles a person drives per day and 'y' be the dollars spent on buying car fuel (per day).__\n",
    "  \n",
    "__We have created 2 numpy arrays each of size 100 that represent x and y.  \n",
    "x ( number of miles) ranges from 1 to 10 with a uniform noise of (0,1/2)  \n",
    "y (money spent in dollars) will be from 1 to 20 with a uniform noise (0,1)__ \n"
   ]
  },
  {
   "cell_type": "code",
   "execution_count": 7,
   "metadata": {},
   "outputs": [
    {
     "name": "stdout",
     "output_type": "stream",
     "text": [
      "x =  [ 1.34683976  1.12176759  1.51512398  1.55233174  1.40619168  1.65075498\n",
      "  1.79399331  1.80243817  1.89844195  2.00100023  2.3344038   2.22424872\n",
      "  2.24914511  2.36268477  2.49808849  2.8212704   2.68452475  2.68229427\n",
      "  3.09511169  2.95703884  3.09047742  3.2544361   3.41541904  3.40886375\n",
      "  3.50672677  3.74960644  3.64861355  3.7721462   3.56368566  4.01092701\n",
      "  4.15630694  4.06088549  4.02517179  4.25169402  4.15897504  4.26835333\n",
      "  4.32520644  4.48563164  4.78490721  4.84614839  4.96698768  5.18754259\n",
      "  5.29582013  5.32097781  5.0674106   5.47601124  5.46852704  5.64537452\n",
      "  5.49642807  5.89755027  5.68548923  5.76276141  5.94613234  6.18135713\n",
      "  5.96522091  6.0275473   6.54290191  6.4991329   6.74003765  6.81809807\n",
      "  6.50611821  6.91538752  7.01250925  6.89905417  7.31314433  7.20472297\n",
      "  7.1043621   7.48199528  7.58957227  7.61744354  7.6991707   7.85436822\n",
      "  8.03510784  7.80787781  8.22410224  7.99366248  8.40581097  8.28913792\n",
      "  8.45971515  8.54227144  8.6906456   8.61856507  8.83489887  8.66309658\n",
      "  8.94837987  9.20890222  8.9614749   8.92608294  9.13231416  9.55889896\n",
      "  9.61488451  9.54252979  9.42015491  9.90952569 10.00659591 10.02504265\n",
      " 10.07330937  9.93489915 10.0892334  10.36509991]\n",
      "y =  [ 1.6635012   2.0214592   2.10816052  2.26016496  1.96287558  2.9554635\n",
      "  3.02881887  3.33565296  2.75465779  3.4250107   3.39670148  3.39377767\n",
      "  3.78503343  4.38293049  4.32963586  4.03925039  4.73691868  4.30098399\n",
      "  4.8416329   4.78175957  4.99765787  5.31746817  5.76844671  5.93723749\n",
      "  5.72811642  6.70973615  6.68143367  6.57482731  7.17737603  7.54863252\n",
      "  7.30221419  7.3202573   7.78023884  7.91133365  8.2765417   8.69203281\n",
      "  8.78219865  8.45897546  8.89094715  8.81719921  8.87106971  9.66192562\n",
      "  9.4020625   9.85990783  9.60359778 10.07386266 10.6957995  10.66721916\n",
      " 11.18256285 10.57431836 11.46744716 10.94398916 11.26445259 12.09754828\n",
      " 12.11988037 12.121557   12.17613693 12.43750193 13.00912372 12.86407194\n",
      " 13.24640866 12.76120085 13.11723062 14.07841099 14.19821707 14.27289001\n",
      " 14.30624942 14.63060835 14.2770918  15.0744923  14.45261619 15.11897313\n",
      " 15.2378667  15.27203124 15.32491892 16.01095271 15.71250558 16.29488506\n",
      " 16.70618934 16.56555394 16.42379457 17.18144744 17.13813976 17.69613625\n",
      " 17.37763019 17.90942839 17.90343733 18.01951169 18.35727914 18.16841269\n",
      " 18.61813748 18.66062754 18.81217983 19.44995194 19.7213867  19.71966726\n",
      " 19.78961904 19.64385088 20.69719809 20.07974319]\n"
     ]
    }
   ],
   "source": [
    "# seed the random number generator with a fixed value\n",
    "import numpy as np\n",
    "np.random.seed(500)\n",
    "\n",
    "x = np.linspace(1,10,100)+ np.random.uniform(low=0,high=.5,size=100) \n",
    "y = np.linspace(1,20,100)+ np.random.uniform(low=0,high=1,size=100)\n",
    "print('x = ',x)\n",
    "print('y = ',y)"
   ]
  },
  {
   "cell_type": "markdown",
   "metadata": {},
   "source": [
    "__3a) Find Expected value of x and the expected value of y__"
   ]
  },
  {
   "cell_type": "code",
   "execution_count": 8,
   "metadata": {},
   "outputs": [
    {
     "name": "stdout",
     "output_type": "stream",
     "text": [
      "EV of X:  5.782532541587923\n",
      "EV of Y:  11.012981683344968\n"
     ]
    }
   ],
   "source": [
    "# your code here\n",
    "print(\"EV of X: \",np.mean(x))\n",
    "print(\"EV of Y: \",np.mean(y))"
   ]
  },
  {
   "cell_type": "markdown",
   "metadata": {},
   "source": [
    "__3b) Find variance of distributions of  x and  y__"
   ]
  },
  {
   "cell_type": "code",
   "execution_count": 9,
   "metadata": {},
   "outputs": [
    {
     "name": "stdout",
     "output_type": "stream",
     "text": [
      "Variance of X:  7.03332752947585\n",
      "Variance of Y:  30.113903575509635\n"
     ]
    }
   ],
   "source": [
    "# your code here\n",
    "print(\"Variance of X: \",np.var(x))\n",
    "print(\"Variance of Y: \",np.var(y))"
   ]
  },
  {
   "cell_type": "markdown",
   "metadata": {},
   "source": [
    "__3c) Find co-variance of x and y.__"
   ]
  },
  {
   "cell_type": "code",
   "execution_count": 10,
   "metadata": {},
   "outputs": [
    {
     "name": "stdout",
     "output_type": "stream",
     "text": [
      "CoVariance of X/Y:  14.511166394475424\n"
     ]
    }
   ],
   "source": [
    "# your code here\n",
    "cov = np.mean(x * y) - np.mean(x) * np.mean(y)\n",
    "print(\"CoVariance of X/Y: \",cov)"
   ]
  },
  {
   "cell_type": "markdown",
   "metadata": {},
   "source": [
    "__3d) Assuming that number of dollars spent in car fuel is only dependant on the miles driven, by  a linear relationship.  \n",
    "Write code that uses a linear predictor to calculate a predicted value of y for each x\n",
    "i.e y_predicted = f(x) = y0+mx. (Do not use Machine learning libraries)__ "
   ]
  },
  {
   "cell_type": "code",
   "execution_count": 11,
   "metadata": {},
   "outputs": [],
   "source": [
    "# your code here\n",
    "\n",
    "def predictor(x_0):\n",
    "    m = cov/np.var(x)\n",
    "    b = np.mean(y) - (cov * np.mean(x))/np.var(x)\n",
    "    return m * x_0 + b"
   ]
  },
  {
   "cell_type": "markdown",
   "metadata": {},
   "source": [
    "__3e) Predict y for each value in x, put the error into an array called y_error__"
   ]
  },
  {
   "cell_type": "code",
   "execution_count": 12,
   "metadata": {},
   "outputs": [
    {
     "name": "stdout",
     "output_type": "stream",
     "text": [
      "[3.91074238e-02 3.90089068e-01 1.00602426e-02 6.28174407e-04\n",
      " 4.34159397e-04 2.18246155e-01 6.00221492e-02 2.85588517e-01\n",
      " 5.98611651e-02 4.58341762e-02 2.52102923e-01 7.71452229e-02\n",
      " 3.86128331e-03 1.81289615e-01 8.67161417e-03 7.46587776e-01\n",
      " 1.33978081e-02 9.95931872e-02 3.92702968e-01 1.61331949e-01\n",
      " 2.12589019e-01 2.29961598e-01 1.30107881e-01 3.18226480e-02\n",
      " 3.47417298e-01 1.18615933e-02 5.06305934e-03 8.42879328e-02\n",
      " 5.51040190e-01 3.64155664e-02 1.26407037e-01 1.97742526e-02\n",
      " 1.54484457e-01 3.22386643e-03 3.76118518e-01 6.44980460e-01\n",
      " 6.02134420e-01 1.48256557e-02 4.06192410e-03 6.96083892e-02\n",
      " 2.10937426e-01 1.52454276e-02 3.68125897e-01 4.03181563e-02\n",
      " 4.36342204e-03 9.40673772e-02 1.09345421e-01 3.94107735e-03\n",
      " 5.77405634e-01 4.56932708e-01 4.28612855e-01 7.95280194e-04\n",
      " 7.40775594e-03 6.84928710e-02 5.32864845e-01 3.63682187e-01\n",
      " 1.64543313e-01 2.91277455e-03 4.25053049e-04 8.15041286e-02\n",
      " 5.48376537e-01 3.47024722e-01 1.87870128e-01 5.80371345e-01\n",
      " 7.43982492e-04 1.06044018e-01 3.20433033e-01 1.23863370e-02\n",
      " 2.15458944e-01 7.60220326e-02 2.64992995e-01 2.84331818e-02\n",
      " 1.78616075e-01 6.45704535e-03 5.26366387e-01 1.90066491e-01\n",
      " 5.08120940e-01 1.21602172e-02 2.87786075e-02 1.99721919e-02\n",
      " 3.47166146e-01 1.00591362e-01 2.97515255e-02 5.47559722e-01\n",
      " 2.79324279e-02 2.98742437e-02 1.09998014e-01 2.71185327e-01\n",
      " 1.87511199e-01 4.04458982e-01 9.10563992e-02 1.20962920e-02\n",
      " 8.64672041e-02 6.05983828e-03 4.46964514e-05 2.15893245e-03\n",
      " 5.79067160e-03 4.05812722e-03 6.37806867e-01 1.50539944e-01]\n"
     ]
    }
   ],
   "source": [
    "# your code here\n",
    "\n",
    "y_predict = predictor(x)\n",
    "y_error = (y_predict - y)**2\n",
    "print(y_error)"
   ]
  },
  {
   "cell_type": "markdown",
   "metadata": {},
   "source": [
    "__3f) Write code that calculates the root mean square error(RMSE), that is root of average of y-error squared__\n"
   ]
  },
  {
   "cell_type": "code",
   "execution_count": 14,
   "metadata": {},
   "outputs": [
    {
     "name": "stdout",
     "output_type": "stream",
     "text": [
      "0.41767772366856115\n"
     ]
    }
   ],
   "source": [
    "# your code here\n",
    "rmse = np.sqrt(np.mean(y_error))\n",
    "print(rmse)"
   ]
  },
  {
   "cell_type": "markdown",
   "metadata": {},
   "source": [
    "## Pandas Introduction\n",
    "\n",
    "\n",
    "##  Reading File\n"
   ]
  },
  {
   "cell_type": "code",
   "execution_count": 15,
   "metadata": {},
   "outputs": [],
   "source": [
    "# Load required modules\n",
    "import pandas as pd\n",
    "import numpy as np"
   ]
  },
  {
   "cell_type": "markdown",
   "metadata": {},
   "source": [
    "#### Read the CSV file called 'data3.csv' into a dataframe called df. \n",
    "#### Data description\n",
    "* File location: https://bcourses.berkeley.edu/files/74463396/download?download_frd=1\n",
    "* Data source: http://www.fao.org/nr/water/aquastat/data/query/index.html?*lang=en\n",
    "* Data, units:\n",
    "* GDP, current USD (CPI adjusted)\n",
    "* NRI, mm/yr\n",
    "* Population density, inhab/km^2\n",
    "* Total area of the country, 1000 ha = 10km^2\n",
    "* Total Population, unit 1000 inhabitants\n"
   ]
  },
  {
   "cell_type": "code",
   "execution_count": 16,
   "metadata": {},
   "outputs": [],
   "source": [
    "# your code here\n",
    "df = pd.read_csv(\"data3.csv\")"
   ]
  },
  {
   "cell_type": "markdown",
   "metadata": {},
   "source": [
    "#### 4a ) Display the first 10 rows of the dataframe"
   ]
  },
  {
   "cell_type": "code",
   "execution_count": 17,
   "metadata": {},
   "outputs": [
    {
     "data": {
      "text/html": [
       "<div>\n",
       "<style scoped>\n",
       "    .dataframe tbody tr th:only-of-type {\n",
       "        vertical-align: middle;\n",
       "    }\n",
       "\n",
       "    .dataframe tbody tr th {\n",
       "        vertical-align: top;\n",
       "    }\n",
       "\n",
       "    .dataframe thead th {\n",
       "        text-align: right;\n",
       "    }\n",
       "</style>\n",
       "<table border=\"1\" class=\"dataframe\">\n",
       "  <thead>\n",
       "    <tr style=\"text-align: right;\">\n",
       "      <th></th>\n",
       "      <th>Area</th>\n",
       "      <th>Area Id</th>\n",
       "      <th>Variable Name</th>\n",
       "      <th>Variable Id</th>\n",
       "      <th>Year</th>\n",
       "      <th>Value</th>\n",
       "      <th>Symbol</th>\n",
       "      <th>Other</th>\n",
       "    </tr>\n",
       "  </thead>\n",
       "  <tbody>\n",
       "    <tr>\n",
       "      <th>0</th>\n",
       "      <td>Argentina</td>\n",
       "      <td>9.0</td>\n",
       "      <td>Total area of the country</td>\n",
       "      <td>4100.0</td>\n",
       "      <td>1962.0</td>\n",
       "      <td>278040.0</td>\n",
       "      <td>E</td>\n",
       "      <td>NaN</td>\n",
       "    </tr>\n",
       "    <tr>\n",
       "      <th>1</th>\n",
       "      <td>Argentina</td>\n",
       "      <td>9.0</td>\n",
       "      <td>Total area of the country</td>\n",
       "      <td>4100.0</td>\n",
       "      <td>1967.0</td>\n",
       "      <td>278040.0</td>\n",
       "      <td>E</td>\n",
       "      <td>NaN</td>\n",
       "    </tr>\n",
       "    <tr>\n",
       "      <th>2</th>\n",
       "      <td>Argentina</td>\n",
       "      <td>9.0</td>\n",
       "      <td>Total area of the country</td>\n",
       "      <td>4100.0</td>\n",
       "      <td>1972.0</td>\n",
       "      <td>278040.0</td>\n",
       "      <td>E</td>\n",
       "      <td>NaN</td>\n",
       "    </tr>\n",
       "    <tr>\n",
       "      <th>3</th>\n",
       "      <td>Argentina</td>\n",
       "      <td>9.0</td>\n",
       "      <td>Total area of the country</td>\n",
       "      <td>4100.0</td>\n",
       "      <td>1977.0</td>\n",
       "      <td>278040.0</td>\n",
       "      <td>E</td>\n",
       "      <td>NaN</td>\n",
       "    </tr>\n",
       "    <tr>\n",
       "      <th>4</th>\n",
       "      <td>Argentina</td>\n",
       "      <td>9.0</td>\n",
       "      <td>Total area of the country</td>\n",
       "      <td>4100.0</td>\n",
       "      <td>1982.0</td>\n",
       "      <td>278040.0</td>\n",
       "      <td>E</td>\n",
       "      <td>NaN</td>\n",
       "    </tr>\n",
       "    <tr>\n",
       "      <th>5</th>\n",
       "      <td>Argentina</td>\n",
       "      <td>9.0</td>\n",
       "      <td>Total area of the country</td>\n",
       "      <td>4100.0</td>\n",
       "      <td>1987.0</td>\n",
       "      <td>278040.0</td>\n",
       "      <td>E</td>\n",
       "      <td>NaN</td>\n",
       "    </tr>\n",
       "    <tr>\n",
       "      <th>6</th>\n",
       "      <td>Argentina</td>\n",
       "      <td>9.0</td>\n",
       "      <td>Total area of the country</td>\n",
       "      <td>4100.0</td>\n",
       "      <td>1992.0</td>\n",
       "      <td>278040.0</td>\n",
       "      <td>E</td>\n",
       "      <td>NaN</td>\n",
       "    </tr>\n",
       "    <tr>\n",
       "      <th>7</th>\n",
       "      <td>Argentina</td>\n",
       "      <td>9.0</td>\n",
       "      <td>Total area of the country</td>\n",
       "      <td>4100.0</td>\n",
       "      <td>1997.0</td>\n",
       "      <td>278040.0</td>\n",
       "      <td>E</td>\n",
       "      <td>NaN</td>\n",
       "    </tr>\n",
       "    <tr>\n",
       "      <th>8</th>\n",
       "      <td>Argentina</td>\n",
       "      <td>9.0</td>\n",
       "      <td>Total area of the country</td>\n",
       "      <td>4100.0</td>\n",
       "      <td>2002.0</td>\n",
       "      <td>278040.0</td>\n",
       "      <td>E</td>\n",
       "      <td>NaN</td>\n",
       "    </tr>\n",
       "    <tr>\n",
       "      <th>9</th>\n",
       "      <td>Argentina</td>\n",
       "      <td>9.0</td>\n",
       "      <td>Total area of the country</td>\n",
       "      <td>4100.0</td>\n",
       "      <td>2007.0</td>\n",
       "      <td>278040.0</td>\n",
       "      <td>E</td>\n",
       "      <td>NaN</td>\n",
       "    </tr>\n",
       "  </tbody>\n",
       "</table>\n",
       "</div>"
      ],
      "text/plain": [
       "        Area  Area Id              Variable Name  Variable Id    Year  \\\n",
       "0  Argentina      9.0  Total area of the country       4100.0  1962.0   \n",
       "1  Argentina      9.0  Total area of the country       4100.0  1967.0   \n",
       "2  Argentina      9.0  Total area of the country       4100.0  1972.0   \n",
       "3  Argentina      9.0  Total area of the country       4100.0  1977.0   \n",
       "4  Argentina      9.0  Total area of the country       4100.0  1982.0   \n",
       "5  Argentina      9.0  Total area of the country       4100.0  1987.0   \n",
       "6  Argentina      9.0  Total area of the country       4100.0  1992.0   \n",
       "7  Argentina      9.0  Total area of the country       4100.0  1997.0   \n",
       "8  Argentina      9.0  Total area of the country       4100.0  2002.0   \n",
       "9  Argentina      9.0  Total area of the country       4100.0  2007.0   \n",
       "\n",
       "      Value Symbol  Other  \n",
       "0  278040.0      E    NaN  \n",
       "1  278040.0      E    NaN  \n",
       "2  278040.0      E    NaN  \n",
       "3  278040.0      E    NaN  \n",
       "4  278040.0      E    NaN  \n",
       "5  278040.0      E    NaN  \n",
       "6  278040.0      E    NaN  \n",
       "7  278040.0      E    NaN  \n",
       "8  278040.0      E    NaN  \n",
       "9  278040.0      E    NaN  "
      ]
     },
     "execution_count": 17,
     "metadata": {},
     "output_type": "execute_result"
    }
   ],
   "source": [
    "# your code here\n",
    "df.head(10)"
   ]
  },
  {
   "cell_type": "markdown",
   "metadata": {},
   "source": [
    "#### 4b) Display the column names."
   ]
  },
  {
   "cell_type": "code",
   "execution_count": 18,
   "metadata": {},
   "outputs": [
    {
     "data": {
      "text/plain": [
       "Index(['Area', 'Area Id', 'Variable Name', 'Variable Id', 'Year', 'Value',\n",
       "       'Symbol', 'Other'],\n",
       "      dtype='object')"
      ]
     },
     "execution_count": 18,
     "metadata": {},
     "output_type": "execute_result"
    }
   ],
   "source": [
    "# your code here\n",
    "df.columns"
   ]
  },
  {
   "cell_type": "markdown",
   "metadata": {},
   "source": [
    "#### 4c) Use iloc to display the first 3 rows and first 4 columns."
   ]
  },
  {
   "cell_type": "code",
   "execution_count": 19,
   "metadata": {},
   "outputs": [
    {
     "data": {
      "text/html": [
       "<div>\n",
       "<style scoped>\n",
       "    .dataframe tbody tr th:only-of-type {\n",
       "        vertical-align: middle;\n",
       "    }\n",
       "\n",
       "    .dataframe tbody tr th {\n",
       "        vertical-align: top;\n",
       "    }\n",
       "\n",
       "    .dataframe thead th {\n",
       "        text-align: right;\n",
       "    }\n",
       "</style>\n",
       "<table border=\"1\" class=\"dataframe\">\n",
       "  <thead>\n",
       "    <tr style=\"text-align: right;\">\n",
       "      <th></th>\n",
       "      <th>Area</th>\n",
       "      <th>Area Id</th>\n",
       "      <th>Variable Name</th>\n",
       "      <th>Variable Id</th>\n",
       "    </tr>\n",
       "  </thead>\n",
       "  <tbody>\n",
       "    <tr>\n",
       "      <th>0</th>\n",
       "      <td>Argentina</td>\n",
       "      <td>9.0</td>\n",
       "      <td>Total area of the country</td>\n",
       "      <td>4100.0</td>\n",
       "    </tr>\n",
       "    <tr>\n",
       "      <th>1</th>\n",
       "      <td>Argentina</td>\n",
       "      <td>9.0</td>\n",
       "      <td>Total area of the country</td>\n",
       "      <td>4100.0</td>\n",
       "    </tr>\n",
       "    <tr>\n",
       "      <th>2</th>\n",
       "      <td>Argentina</td>\n",
       "      <td>9.0</td>\n",
       "      <td>Total area of the country</td>\n",
       "      <td>4100.0</td>\n",
       "    </tr>\n",
       "  </tbody>\n",
       "</table>\n",
       "</div>"
      ],
      "text/plain": [
       "        Area  Area Id              Variable Name  Variable Id\n",
       "0  Argentina      9.0  Total area of the country       4100.0\n",
       "1  Argentina      9.0  Total area of the country       4100.0\n",
       "2  Argentina      9.0  Total area of the country       4100.0"
      ]
     },
     "execution_count": 19,
     "metadata": {},
     "output_type": "execute_result"
    }
   ],
   "source": [
    "# your code here\n",
    "df.iloc[0:3, 0:4]"
   ]
  },
  {
   "cell_type": "markdown",
   "metadata": {},
   "source": [
    "\n",
    "\n",
    "## Data Preprocessing\n",
    "\n",
    "#### 5a ) Find all the rows that  have 'NaN' in the 'Symbol' column. Display first 5 rows.\n",
    "\n",
    "##### Hint : You might have to use a condition (mask)"
   ]
  },
  {
   "cell_type": "code",
   "execution_count": 20,
   "metadata": {},
   "outputs": [
    {
     "data": {
      "text/html": [
       "<div>\n",
       "<style scoped>\n",
       "    .dataframe tbody tr th:only-of-type {\n",
       "        vertical-align: middle;\n",
       "    }\n",
       "\n",
       "    .dataframe tbody tr th {\n",
       "        vertical-align: top;\n",
       "    }\n",
       "\n",
       "    .dataframe thead th {\n",
       "        text-align: right;\n",
       "    }\n",
       "</style>\n",
       "<table border=\"1\" class=\"dataframe\">\n",
       "  <thead>\n",
       "    <tr style=\"text-align: right;\">\n",
       "      <th></th>\n",
       "      <th>Area</th>\n",
       "      <th>Area Id</th>\n",
       "      <th>Variable Name</th>\n",
       "      <th>Variable Id</th>\n",
       "      <th>Year</th>\n",
       "      <th>Value</th>\n",
       "      <th>Symbol</th>\n",
       "      <th>Other</th>\n",
       "    </tr>\n",
       "  </thead>\n",
       "  <tbody>\n",
       "    <tr>\n",
       "      <th>390</th>\n",
       "      <td>NaN</td>\n",
       "      <td>NaN</td>\n",
       "      <td>NaN</td>\n",
       "      <td>NaN</td>\n",
       "      <td>NaN</td>\n",
       "      <td>NaN</td>\n",
       "      <td>NaN</td>\n",
       "      <td>NaN</td>\n",
       "    </tr>\n",
       "    <tr>\n",
       "      <th>391</th>\n",
       "      <td>E - External data</td>\n",
       "      <td>NaN</td>\n",
       "      <td>NaN</td>\n",
       "      <td>NaN</td>\n",
       "      <td>NaN</td>\n",
       "      <td>NaN</td>\n",
       "      <td>NaN</td>\n",
       "      <td>NaN</td>\n",
       "    </tr>\n",
       "    <tr>\n",
       "      <th>392</th>\n",
       "      <td>I - AQUASTAT estimate</td>\n",
       "      <td>NaN</td>\n",
       "      <td>NaN</td>\n",
       "      <td>NaN</td>\n",
       "      <td>NaN</td>\n",
       "      <td>NaN</td>\n",
       "      <td>NaN</td>\n",
       "      <td>NaN</td>\n",
       "    </tr>\n",
       "    <tr>\n",
       "      <th>393</th>\n",
       "      <td>K - Aggregate data</td>\n",
       "      <td>NaN</td>\n",
       "      <td>NaN</td>\n",
       "      <td>NaN</td>\n",
       "      <td>NaN</td>\n",
       "      <td>NaN</td>\n",
       "      <td>NaN</td>\n",
       "      <td>NaN</td>\n",
       "    </tr>\n",
       "    <tr>\n",
       "      <th>394</th>\n",
       "      <td>L - Modelled data</td>\n",
       "      <td>NaN</td>\n",
       "      <td>NaN</td>\n",
       "      <td>NaN</td>\n",
       "      <td>NaN</td>\n",
       "      <td>NaN</td>\n",
       "      <td>NaN</td>\n",
       "      <td>NaN</td>\n",
       "    </tr>\n",
       "  </tbody>\n",
       "</table>\n",
       "</div>"
      ],
      "text/plain": [
       "                      Area  Area Id Variable Name  Variable Id  Year  Value  \\\n",
       "390                    NaN      NaN           NaN          NaN   NaN    NaN   \n",
       "391      E - External data      NaN           NaN          NaN   NaN    NaN   \n",
       "392  I - AQUASTAT estimate      NaN           NaN          NaN   NaN    NaN   \n",
       "393     K - Aggregate data      NaN           NaN          NaN   NaN    NaN   \n",
       "394      L - Modelled data      NaN           NaN          NaN   NaN    NaN   \n",
       "\n",
       "    Symbol  Other  \n",
       "390    NaN    NaN  \n",
       "391    NaN    NaN  \n",
       "392    NaN    NaN  \n",
       "393    NaN    NaN  \n",
       "394    NaN    NaN  "
      ]
     },
     "execution_count": 20,
     "metadata": {},
     "output_type": "execute_result"
    }
   ],
   "source": [
    "# your code here\n",
    "nanVals = df[df[\"Symbol\"].isnull()]\n",
    "nanVals.head(5)"
   ]
  },
  {
   "cell_type": "markdown",
   "metadata": {},
   "source": [
    "#### 5b )  Now, we will try to get rid of the NaN valued rows and columns. First, drop the column 'Other' which only has 'NaN' values. Then drop all other rows that have any column with a value 'NaN'.  Then display the last 5 rows of the dataframe."
   ]
  },
  {
   "cell_type": "code",
   "execution_count": 21,
   "metadata": {},
   "outputs": [
    {
     "data": {
      "text/html": [
       "<div>\n",
       "<style scoped>\n",
       "    .dataframe tbody tr th:only-of-type {\n",
       "        vertical-align: middle;\n",
       "    }\n",
       "\n",
       "    .dataframe tbody tr th {\n",
       "        vertical-align: top;\n",
       "    }\n",
       "\n",
       "    .dataframe thead th {\n",
       "        text-align: right;\n",
       "    }\n",
       "</style>\n",
       "<table border=\"1\" class=\"dataframe\">\n",
       "  <thead>\n",
       "    <tr style=\"text-align: right;\">\n",
       "      <th></th>\n",
       "      <th>Area</th>\n",
       "      <th>Area Id</th>\n",
       "      <th>Variable Name</th>\n",
       "      <th>Variable Id</th>\n",
       "      <th>Year</th>\n",
       "      <th>Value</th>\n",
       "      <th>Symbol</th>\n",
       "    </tr>\n",
       "  </thead>\n",
       "  <tbody>\n",
       "    <tr>\n",
       "      <th>385</th>\n",
       "      <td>United States of America</td>\n",
       "      <td>231.0</td>\n",
       "      <td>National Rainfall Index (NRI)</td>\n",
       "      <td>4472.0</td>\n",
       "      <td>1981.0</td>\n",
       "      <td>949.2</td>\n",
       "      <td>E</td>\n",
       "    </tr>\n",
       "    <tr>\n",
       "      <th>386</th>\n",
       "      <td>United States of America</td>\n",
       "      <td>231.0</td>\n",
       "      <td>National Rainfall Index (NRI)</td>\n",
       "      <td>4472.0</td>\n",
       "      <td>1984.0</td>\n",
       "      <td>974.6</td>\n",
       "      <td>E</td>\n",
       "    </tr>\n",
       "    <tr>\n",
       "      <th>387</th>\n",
       "      <td>United States of America</td>\n",
       "      <td>231.0</td>\n",
       "      <td>National Rainfall Index (NRI)</td>\n",
       "      <td>4472.0</td>\n",
       "      <td>1992.0</td>\n",
       "      <td>1020.0</td>\n",
       "      <td>E</td>\n",
       "    </tr>\n",
       "    <tr>\n",
       "      <th>388</th>\n",
       "      <td>United States of America</td>\n",
       "      <td>231.0</td>\n",
       "      <td>National Rainfall Index (NRI)</td>\n",
       "      <td>4472.0</td>\n",
       "      <td>1996.0</td>\n",
       "      <td>1005.0</td>\n",
       "      <td>E</td>\n",
       "    </tr>\n",
       "    <tr>\n",
       "      <th>389</th>\n",
       "      <td>United States of America</td>\n",
       "      <td>231.0</td>\n",
       "      <td>National Rainfall Index (NRI)</td>\n",
       "      <td>4472.0</td>\n",
       "      <td>2002.0</td>\n",
       "      <td>938.7</td>\n",
       "      <td>E</td>\n",
       "    </tr>\n",
       "  </tbody>\n",
       "</table>\n",
       "</div>"
      ],
      "text/plain": [
       "                         Area  Area Id                  Variable Name  \\\n",
       "385  United States of America    231.0  National Rainfall Index (NRI)   \n",
       "386  United States of America    231.0  National Rainfall Index (NRI)   \n",
       "387  United States of America    231.0  National Rainfall Index (NRI)   \n",
       "388  United States of America    231.0  National Rainfall Index (NRI)   \n",
       "389  United States of America    231.0  National Rainfall Index (NRI)   \n",
       "\n",
       "     Variable Id    Year   Value Symbol  \n",
       "385       4472.0  1981.0   949.2      E  \n",
       "386       4472.0  1984.0   974.6      E  \n",
       "387       4472.0  1992.0  1020.0      E  \n",
       "388       4472.0  1996.0  1005.0      E  \n",
       "389       4472.0  2002.0   938.7      E  "
      ]
     },
     "execution_count": 21,
     "metadata": {},
     "output_type": "execute_result"
    }
   ],
   "source": [
    "# your code here\n",
    "df = df.drop(columns='Other')\n",
    "df = df.dropna()\n",
    "df.tail()"
   ]
  },
  {
   "cell_type": "markdown",
   "metadata": {},
   "source": [
    "\n",
    "\n",
    "\n",
    "#### 6a) For our analysis we do not want all the columns in our dataframe. Lets  drop all the redundant columns/ features.   \n",
    "#### **Drop columns**: **Area Id, Variable Id, Symbol**. Save the new dataframe as df1. Display the first 5 rows of the new dataframe.\n"
   ]
  },
  {
   "cell_type": "code",
   "execution_count": 22,
   "metadata": {},
   "outputs": [
    {
     "data": {
      "text/html": [
       "<div>\n",
       "<style scoped>\n",
       "    .dataframe tbody tr th:only-of-type {\n",
       "        vertical-align: middle;\n",
       "    }\n",
       "\n",
       "    .dataframe tbody tr th {\n",
       "        vertical-align: top;\n",
       "    }\n",
       "\n",
       "    .dataframe thead th {\n",
       "        text-align: right;\n",
       "    }\n",
       "</style>\n",
       "<table border=\"1\" class=\"dataframe\">\n",
       "  <thead>\n",
       "    <tr style=\"text-align: right;\">\n",
       "      <th></th>\n",
       "      <th>Area</th>\n",
       "      <th>Variable Name</th>\n",
       "      <th>Year</th>\n",
       "      <th>Value</th>\n",
       "    </tr>\n",
       "  </thead>\n",
       "  <tbody>\n",
       "    <tr>\n",
       "      <th>0</th>\n",
       "      <td>Argentina</td>\n",
       "      <td>Total area of the country</td>\n",
       "      <td>1962.0</td>\n",
       "      <td>278040.0</td>\n",
       "    </tr>\n",
       "    <tr>\n",
       "      <th>1</th>\n",
       "      <td>Argentina</td>\n",
       "      <td>Total area of the country</td>\n",
       "      <td>1967.0</td>\n",
       "      <td>278040.0</td>\n",
       "    </tr>\n",
       "    <tr>\n",
       "      <th>2</th>\n",
       "      <td>Argentina</td>\n",
       "      <td>Total area of the country</td>\n",
       "      <td>1972.0</td>\n",
       "      <td>278040.0</td>\n",
       "    </tr>\n",
       "    <tr>\n",
       "      <th>3</th>\n",
       "      <td>Argentina</td>\n",
       "      <td>Total area of the country</td>\n",
       "      <td>1977.0</td>\n",
       "      <td>278040.0</td>\n",
       "    </tr>\n",
       "    <tr>\n",
       "      <th>4</th>\n",
       "      <td>Argentina</td>\n",
       "      <td>Total area of the country</td>\n",
       "      <td>1982.0</td>\n",
       "      <td>278040.0</td>\n",
       "    </tr>\n",
       "  </tbody>\n",
       "</table>\n",
       "</div>"
      ],
      "text/plain": [
       "        Area              Variable Name    Year     Value\n",
       "0  Argentina  Total area of the country  1962.0  278040.0\n",
       "1  Argentina  Total area of the country  1967.0  278040.0\n",
       "2  Argentina  Total area of the country  1972.0  278040.0\n",
       "3  Argentina  Total area of the country  1977.0  278040.0\n",
       "4  Argentina  Total area of the country  1982.0  278040.0"
      ]
     },
     "execution_count": 22,
     "metadata": {},
     "output_type": "execute_result"
    }
   ],
   "source": [
    "# your code here\n",
    "df1 = df.drop(columns=[\"Area Id\", \"Variable Id\", \"Symbol\"])\n",
    "df1.head()"
   ]
  },
  {
   "cell_type": "markdown",
   "metadata": {},
   "source": [
    "#### 6b) Display all the unique values in your new dataframe for columns: Area, Variable Name, Year.\n"
   ]
  },
  {
   "cell_type": "code",
   "execution_count": 24,
   "metadata": {},
   "outputs": [
    {
     "name": "stdout",
     "output_type": "stream",
     "text": [
      "Area:  {'Argentina', 'Australia', 'Sweden', 'Germany', 'Ireland', 'United States of America', 'Iceland'}\n",
      "\n",
      "Variable Name:  {'Total population', 'Population density', 'Total area of the country', 'National Rainfall Index (NRI)', 'Gross Domestic Product (GDP)'}\n",
      "\n",
      "Year:  {1962.0, 1963.0, 1964.0, 1965.0, 1967.0, 1969.0, 1970.0, 1971.0, 1972.0, 1973.0, 1974.0, 1975.0, 1977.0, 1978.0, 1979.0, 1981.0, 1982.0, 1983.0, 1984.0, 1985.0, 1986.0, 1987.0, 1988.0, 1990.0, 1991.0, 1992.0, 1993.0, 1995.0, 1996.0, 1997.0, 1998.0, 2000.0, 2001.0, 2002.0, 2007.0, 2012.0, 2014.0, 2015.0}\n"
     ]
    }
   ],
   "source": [
    "# your code here\n",
    "\n",
    "\n",
    "print(\"Area: \", set(df1[\"Area\"]))\n",
    "print()\n",
    "\n",
    "print(\"Variable Name: \", set(df1[\"Variable Name\"]))\n",
    "print()\n",
    "\n",
    "print(\"Year: \", set(df1[\"Year\"]))"
   ]
  },
  {
   "cell_type": "markdown",
   "metadata": {},
   "source": [
    "__6c) Convert the year column to pandas datetime. Convert the 'Year' column float values to pandas datetime objects, where each year is represented as the first day of that year. Also display the column and datatype for 'Year' after conversion.\n",
    "For eg: 1962.0 will be represented as 1962-01-01¶__\n"
   ]
  },
  {
   "cell_type": "code",
   "execution_count": 25,
   "metadata": {},
   "outputs": [
    {
     "data": {
      "text/html": [
       "<div>\n",
       "<style scoped>\n",
       "    .dataframe tbody tr th:only-of-type {\n",
       "        vertical-align: middle;\n",
       "    }\n",
       "\n",
       "    .dataframe tbody tr th {\n",
       "        vertical-align: top;\n",
       "    }\n",
       "\n",
       "    .dataframe thead th {\n",
       "        text-align: right;\n",
       "    }\n",
       "</style>\n",
       "<table border=\"1\" class=\"dataframe\">\n",
       "  <thead>\n",
       "    <tr style=\"text-align: right;\">\n",
       "      <th></th>\n",
       "      <th>Area</th>\n",
       "      <th>Variable Name</th>\n",
       "      <th>Year</th>\n",
       "      <th>Value</th>\n",
       "    </tr>\n",
       "  </thead>\n",
       "  <tbody>\n",
       "    <tr>\n",
       "      <th>0</th>\n",
       "      <td>Argentina</td>\n",
       "      <td>Total area of the country</td>\n",
       "      <td>1962-01-01</td>\n",
       "      <td>278040.0</td>\n",
       "    </tr>\n",
       "    <tr>\n",
       "      <th>1</th>\n",
       "      <td>Argentina</td>\n",
       "      <td>Total area of the country</td>\n",
       "      <td>1967-01-01</td>\n",
       "      <td>278040.0</td>\n",
       "    </tr>\n",
       "    <tr>\n",
       "      <th>2</th>\n",
       "      <td>Argentina</td>\n",
       "      <td>Total area of the country</td>\n",
       "      <td>1972-01-01</td>\n",
       "      <td>278040.0</td>\n",
       "    </tr>\n",
       "    <tr>\n",
       "      <th>3</th>\n",
       "      <td>Argentina</td>\n",
       "      <td>Total area of the country</td>\n",
       "      <td>1977-01-01</td>\n",
       "      <td>278040.0</td>\n",
       "    </tr>\n",
       "    <tr>\n",
       "      <th>4</th>\n",
       "      <td>Argentina</td>\n",
       "      <td>Total area of the country</td>\n",
       "      <td>1982-01-01</td>\n",
       "      <td>278040.0</td>\n",
       "    </tr>\n",
       "  </tbody>\n",
       "</table>\n",
       "</div>"
      ],
      "text/plain": [
       "        Area              Variable Name       Year     Value\n",
       "0  Argentina  Total area of the country 1962-01-01  278040.0\n",
       "1  Argentina  Total area of the country 1967-01-01  278040.0\n",
       "2  Argentina  Total area of the country 1972-01-01  278040.0\n",
       "3  Argentina  Total area of the country 1977-01-01  278040.0\n",
       "4  Argentina  Total area of the country 1982-01-01  278040.0"
      ]
     },
     "execution_count": 25,
     "metadata": {},
     "output_type": "execute_result"
    }
   ],
   "source": [
    "df1[\"Year\"] = pd.to_datetime(df1[\"Year\"].astype(int), format=\"%Y\")\n",
    "df1.head()"
   ]
  },
  {
   "cell_type": "markdown",
   "metadata": {},
   "source": [
    "## Extract specific statistics from the preprocessed data:\n",
    "\n",
    "#### 7a)  Create a dataframe 'dftemp' to store rows where Area is 'Iceland'. Display the dataframe."
   ]
  },
  {
   "cell_type": "code",
   "execution_count": 26,
   "metadata": {},
   "outputs": [
    {
     "data": {
      "text/html": [
       "<div>\n",
       "<style scoped>\n",
       "    .dataframe tbody tr th:only-of-type {\n",
       "        vertical-align: middle;\n",
       "    }\n",
       "\n",
       "    .dataframe tbody tr th {\n",
       "        vertical-align: top;\n",
       "    }\n",
       "\n",
       "    .dataframe thead th {\n",
       "        text-align: right;\n",
       "    }\n",
       "</style>\n",
       "<table border=\"1\" class=\"dataframe\">\n",
       "  <thead>\n",
       "    <tr style=\"text-align: right;\">\n",
       "      <th></th>\n",
       "      <th>Area</th>\n",
       "      <th>Variable Name</th>\n",
       "      <th>Year</th>\n",
       "      <th>Value</th>\n",
       "    </tr>\n",
       "  </thead>\n",
       "  <tbody>\n",
       "    <tr>\n",
       "      <th>166</th>\n",
       "      <td>Iceland</td>\n",
       "      <td>Total area of the country</td>\n",
       "      <td>1962-01-01</td>\n",
       "      <td>10300.0</td>\n",
       "    </tr>\n",
       "    <tr>\n",
       "      <th>167</th>\n",
       "      <td>Iceland</td>\n",
       "      <td>Total area of the country</td>\n",
       "      <td>1967-01-01</td>\n",
       "      <td>10300.0</td>\n",
       "    </tr>\n",
       "    <tr>\n",
       "      <th>168</th>\n",
       "      <td>Iceland</td>\n",
       "      <td>Total area of the country</td>\n",
       "      <td>1972-01-01</td>\n",
       "      <td>10300.0</td>\n",
       "    </tr>\n",
       "    <tr>\n",
       "      <th>169</th>\n",
       "      <td>Iceland</td>\n",
       "      <td>Total area of the country</td>\n",
       "      <td>1977-01-01</td>\n",
       "      <td>10300.0</td>\n",
       "    </tr>\n",
       "    <tr>\n",
       "      <th>170</th>\n",
       "      <td>Iceland</td>\n",
       "      <td>Total area of the country</td>\n",
       "      <td>1982-01-01</td>\n",
       "      <td>10300.0</td>\n",
       "    </tr>\n",
       "  </tbody>\n",
       "</table>\n",
       "</div>"
      ],
      "text/plain": [
       "        Area              Variable Name       Year    Value\n",
       "166  Iceland  Total area of the country 1962-01-01  10300.0\n",
       "167  Iceland  Total area of the country 1967-01-01  10300.0\n",
       "168  Iceland  Total area of the country 1972-01-01  10300.0\n",
       "169  Iceland  Total area of the country 1977-01-01  10300.0\n",
       "170  Iceland  Total area of the country 1982-01-01  10300.0"
      ]
     },
     "execution_count": 26,
     "metadata": {},
     "output_type": "execute_result"
    }
   ],
   "source": [
    "# your code here\n",
    "dftemp = df1[df1[\"Area\"] == \"Iceland\"]\n",
    "dftemp.head()"
   ]
  },
  {
   "cell_type": "markdown",
   "metadata": {},
   "source": [
    "#### 7b) Print the years when the National Rainfall Index (NRI) was greater than 900 and less than 950 in Iceland. Use the dataframe you created in the previous question 'dftemp'. "
   ]
  },
  {
   "cell_type": "code",
   "execution_count": 35,
   "metadata": {},
   "outputs": [
    {
     "name": "stdout",
     "output_type": "stream",
     "text": [
      "Years of Max NRI:  [1981, 1998]\n"
     ]
    }
   ],
   "source": [
    "# your code here\n",
    "n_r_i = dftemp[dftemp[\"Variable Name\"] == \"National Rainfall Index (NRI)\"]\n",
    "yearsTemp = [n_r_i['Year'][x].year for x in n_r_i.index if n_r_i['Value'][x] > 900 and n_r_i['Value'][x] < 950]\n",
    "print(\"Years of Max NRI: \", yearsTemp)"
   ]
  },
  {
   "cell_type": "markdown",
   "metadata": {},
   "source": [
    "## US statistics: \n"
   ]
  },
  {
   "cell_type": "markdown",
   "metadata": {},
   "source": [
    "#### 8a) Create a new DataFrame called **`df_usa`** that only contains values where 'Area' is equal to 'United States of America'. Set the indices to be the 'Year' column    ( Use .set_index( ) ). Display the dataframe head."
   ]
  },
  {
   "cell_type": "code",
   "execution_count": 36,
   "metadata": {},
   "outputs": [
    {
     "data": {
      "text/html": [
       "<div>\n",
       "<style scoped>\n",
       "    .dataframe tbody tr th:only-of-type {\n",
       "        vertical-align: middle;\n",
       "    }\n",
       "\n",
       "    .dataframe tbody tr th {\n",
       "        vertical-align: top;\n",
       "    }\n",
       "\n",
       "    .dataframe thead th {\n",
       "        text-align: right;\n",
       "    }\n",
       "</style>\n",
       "<table border=\"1\" class=\"dataframe\">\n",
       "  <thead>\n",
       "    <tr style=\"text-align: right;\">\n",
       "      <th></th>\n",
       "      <th>Area</th>\n",
       "      <th>Variable Name</th>\n",
       "      <th>Value</th>\n",
       "    </tr>\n",
       "    <tr>\n",
       "      <th>Year</th>\n",
       "      <th></th>\n",
       "      <th></th>\n",
       "      <th></th>\n",
       "    </tr>\n",
       "  </thead>\n",
       "  <tbody>\n",
       "    <tr>\n",
       "      <th>1962-01-01</th>\n",
       "      <td>United States of America</td>\n",
       "      <td>Total area of the country</td>\n",
       "      <td>962909.0</td>\n",
       "    </tr>\n",
       "    <tr>\n",
       "      <th>1967-01-01</th>\n",
       "      <td>United States of America</td>\n",
       "      <td>Total area of the country</td>\n",
       "      <td>962909.0</td>\n",
       "    </tr>\n",
       "    <tr>\n",
       "      <th>1972-01-01</th>\n",
       "      <td>United States of America</td>\n",
       "      <td>Total area of the country</td>\n",
       "      <td>962909.0</td>\n",
       "    </tr>\n",
       "    <tr>\n",
       "      <th>1977-01-01</th>\n",
       "      <td>United States of America</td>\n",
       "      <td>Total area of the country</td>\n",
       "      <td>962909.0</td>\n",
       "    </tr>\n",
       "    <tr>\n",
       "      <th>1982-01-01</th>\n",
       "      <td>United States of America</td>\n",
       "      <td>Total area of the country</td>\n",
       "      <td>962909.0</td>\n",
       "    </tr>\n",
       "  </tbody>\n",
       "</table>\n",
       "</div>"
      ],
      "text/plain": [
       "                                Area              Variable Name     Value\n",
       "Year                                                                     \n",
       "1962-01-01  United States of America  Total area of the country  962909.0\n",
       "1967-01-01  United States of America  Total area of the country  962909.0\n",
       "1972-01-01  United States of America  Total area of the country  962909.0\n",
       "1977-01-01  United States of America  Total area of the country  962909.0\n",
       "1982-01-01  United States of America  Total area of the country  962909.0"
      ]
     },
     "execution_count": 36,
     "metadata": {},
     "output_type": "execute_result"
    }
   ],
   "source": [
    "# your code here\n",
    "df_usa = df1[df1[\"Area\"] == \"United States of America\"].set_index(\"Year\")\n",
    "df_usa.head()"
   ]
  },
  {
   "cell_type": "markdown",
   "metadata": {},
   "source": [
    "\n",
    "#### 8b) Pivot the DataFrame so that the unique values in the column 'Variable Name' becomes the columns. The DataFrame values should be the ones in the the 'Value' column. Save it in df_usa. Display the dataframe head."
   ]
  },
  {
   "cell_type": "code",
   "execution_count": 37,
   "metadata": {},
   "outputs": [
    {
     "data": {
      "text/html": [
       "<div>\n",
       "<style scoped>\n",
       "    .dataframe tbody tr th:only-of-type {\n",
       "        vertical-align: middle;\n",
       "    }\n",
       "\n",
       "    .dataframe tbody tr th {\n",
       "        vertical-align: top;\n",
       "    }\n",
       "\n",
       "    .dataframe thead th {\n",
       "        text-align: right;\n",
       "    }\n",
       "</style>\n",
       "<table border=\"1\" class=\"dataframe\">\n",
       "  <thead>\n",
       "    <tr style=\"text-align: right;\">\n",
       "      <th></th>\n",
       "      <th>Area</th>\n",
       "      <th>Gross Domestic Product (GDP)</th>\n",
       "      <th>National Rainfall Index (NRI)</th>\n",
       "      <th>Population density</th>\n",
       "      <th>Total area of the country</th>\n",
       "      <th>Total population</th>\n",
       "    </tr>\n",
       "    <tr>\n",
       "      <th>Year</th>\n",
       "      <th></th>\n",
       "      <th></th>\n",
       "      <th></th>\n",
       "      <th></th>\n",
       "      <th></th>\n",
       "      <th></th>\n",
       "    </tr>\n",
       "  </thead>\n",
       "  <tbody>\n",
       "    <tr>\n",
       "      <th>1962-01-01</th>\n",
       "      <td>United States of America</td>\n",
       "      <td>6.050000e+11</td>\n",
       "      <td>NaN</td>\n",
       "      <td>19.93</td>\n",
       "      <td>962909.0</td>\n",
       "      <td>191861.0</td>\n",
       "    </tr>\n",
       "    <tr>\n",
       "      <th>1967-01-01</th>\n",
       "      <td>United States of America</td>\n",
       "      <td>8.620000e+11</td>\n",
       "      <td>NaN</td>\n",
       "      <td>21.16</td>\n",
       "      <td>962909.0</td>\n",
       "      <td>203713.0</td>\n",
       "    </tr>\n",
       "    <tr>\n",
       "      <th>1972-01-01</th>\n",
       "      <td>United States of America</td>\n",
       "      <td>1.280000e+12</td>\n",
       "      <td>NaN</td>\n",
       "      <td>22.14</td>\n",
       "      <td>962909.0</td>\n",
       "      <td>213220.0</td>\n",
       "    </tr>\n",
       "    <tr>\n",
       "      <th>1977-01-01</th>\n",
       "      <td>United States of America</td>\n",
       "      <td>2.090000e+12</td>\n",
       "      <td>NaN</td>\n",
       "      <td>23.17</td>\n",
       "      <td>962909.0</td>\n",
       "      <td>223091.0</td>\n",
       "    </tr>\n",
       "    <tr>\n",
       "      <th>1982-01-01</th>\n",
       "      <td>United States of America</td>\n",
       "      <td>3.340000e+12</td>\n",
       "      <td>NaN</td>\n",
       "      <td>24.30</td>\n",
       "      <td>962909.0</td>\n",
       "      <td>233954.0</td>\n",
       "    </tr>\n",
       "  </tbody>\n",
       "</table>\n",
       "</div>"
      ],
      "text/plain": [
       "                                Area  Gross Domestic Product (GDP)  \\\n",
       "Year                                                                 \n",
       "1962-01-01  United States of America                  6.050000e+11   \n",
       "1967-01-01  United States of America                  8.620000e+11   \n",
       "1972-01-01  United States of America                  1.280000e+12   \n",
       "1977-01-01  United States of America                  2.090000e+12   \n",
       "1982-01-01  United States of America                  3.340000e+12   \n",
       "\n",
       "            National Rainfall Index (NRI)  Population density  \\\n",
       "Year                                                            \n",
       "1962-01-01                            NaN               19.93   \n",
       "1967-01-01                            NaN               21.16   \n",
       "1972-01-01                            NaN               22.14   \n",
       "1977-01-01                            NaN               23.17   \n",
       "1982-01-01                            NaN               24.30   \n",
       "\n",
       "            Total area of the country  Total population  \n",
       "Year                                                     \n",
       "1962-01-01                   962909.0          191861.0  \n",
       "1967-01-01                   962909.0          203713.0  \n",
       "1972-01-01                   962909.0          213220.0  \n",
       "1977-01-01                   962909.0          223091.0  \n",
       "1982-01-01                   962909.0          233954.0  "
      ]
     },
     "execution_count": 37,
     "metadata": {},
     "output_type": "execute_result"
    }
   ],
   "source": [
    "# your code here\n",
    "dfPivoted = df_usa.pivot(index=df_usa.index, columns='Variable Name')['Value']\n",
    "df_usa = df_usa.drop(columns=[\"Variable Name\", \"Value\"])\n",
    "df_usa[dfPivoted.columns] = dfPivoted\n",
    "df_usa.head()"
   ]
  },
  {
   "cell_type": "markdown",
   "metadata": {},
   "source": [
    "#### 8c) Rename new columns to  ['GDP','NRI','PD','Area','Population'] and display the head.\n"
   ]
  },
  {
   "cell_type": "code",
   "execution_count": 38,
   "metadata": {},
   "outputs": [
    {
     "data": {
      "text/html": [
       "<div>\n",
       "<style scoped>\n",
       "    .dataframe tbody tr th:only-of-type {\n",
       "        vertical-align: middle;\n",
       "    }\n",
       "\n",
       "    .dataframe tbody tr th {\n",
       "        vertical-align: top;\n",
       "    }\n",
       "\n",
       "    .dataframe thead th {\n",
       "        text-align: right;\n",
       "    }\n",
       "</style>\n",
       "<table border=\"1\" class=\"dataframe\">\n",
       "  <thead>\n",
       "    <tr style=\"text-align: right;\">\n",
       "      <th></th>\n",
       "      <th>Country</th>\n",
       "      <th>GDP</th>\n",
       "      <th>NRI</th>\n",
       "      <th>PD</th>\n",
       "      <th>Area</th>\n",
       "      <th>Population</th>\n",
       "    </tr>\n",
       "    <tr>\n",
       "      <th>Year</th>\n",
       "      <th></th>\n",
       "      <th></th>\n",
       "      <th></th>\n",
       "      <th></th>\n",
       "      <th></th>\n",
       "      <th></th>\n",
       "    </tr>\n",
       "  </thead>\n",
       "  <tbody>\n",
       "    <tr>\n",
       "      <th>1962-01-01</th>\n",
       "      <td>United States of America</td>\n",
       "      <td>6.050000e+11</td>\n",
       "      <td>NaN</td>\n",
       "      <td>19.93</td>\n",
       "      <td>962909.0</td>\n",
       "      <td>191861.0</td>\n",
       "    </tr>\n",
       "    <tr>\n",
       "      <th>1967-01-01</th>\n",
       "      <td>United States of America</td>\n",
       "      <td>8.620000e+11</td>\n",
       "      <td>NaN</td>\n",
       "      <td>21.16</td>\n",
       "      <td>962909.0</td>\n",
       "      <td>203713.0</td>\n",
       "    </tr>\n",
       "    <tr>\n",
       "      <th>1972-01-01</th>\n",
       "      <td>United States of America</td>\n",
       "      <td>1.280000e+12</td>\n",
       "      <td>NaN</td>\n",
       "      <td>22.14</td>\n",
       "      <td>962909.0</td>\n",
       "      <td>213220.0</td>\n",
       "    </tr>\n",
       "    <tr>\n",
       "      <th>1977-01-01</th>\n",
       "      <td>United States of America</td>\n",
       "      <td>2.090000e+12</td>\n",
       "      <td>NaN</td>\n",
       "      <td>23.17</td>\n",
       "      <td>962909.0</td>\n",
       "      <td>223091.0</td>\n",
       "    </tr>\n",
       "    <tr>\n",
       "      <th>1982-01-01</th>\n",
       "      <td>United States of America</td>\n",
       "      <td>3.340000e+12</td>\n",
       "      <td>NaN</td>\n",
       "      <td>24.30</td>\n",
       "      <td>962909.0</td>\n",
       "      <td>233954.0</td>\n",
       "    </tr>\n",
       "  </tbody>\n",
       "</table>\n",
       "</div>"
      ],
      "text/plain": [
       "                             Country           GDP  NRI     PD      Area  \\\n",
       "Year                                                                       \n",
       "1962-01-01  United States of America  6.050000e+11  NaN  19.93  962909.0   \n",
       "1967-01-01  United States of America  8.620000e+11  NaN  21.16  962909.0   \n",
       "1972-01-01  United States of America  1.280000e+12  NaN  22.14  962909.0   \n",
       "1977-01-01  United States of America  2.090000e+12  NaN  23.17  962909.0   \n",
       "1982-01-01  United States of America  3.340000e+12  NaN  24.30  962909.0   \n",
       "\n",
       "            Population  \n",
       "Year                    \n",
       "1962-01-01    191861.0  \n",
       "1967-01-01    203713.0  \n",
       "1972-01-01    213220.0  \n",
       "1977-01-01    223091.0  \n",
       "1982-01-01    233954.0  "
      ]
     },
     "execution_count": 38,
     "metadata": {},
     "output_type": "execute_result"
    }
   ],
   "source": [
    "# your code here\n",
    "df_usa = df_usa.rename({\n",
    "    \"Area\": \"Country\",\n",
    "    \"Gross Domestic Product (GDP)\": \"GDP\",\n",
    "    \"National Rainfall Index (NRI)\": \"NRI\",\n",
    "    \"Population density\": \"PD\",\n",
    "    \"Total area of the country\": \"Area\",\n",
    "    \"Total population\": \"Population\"\n",
    "}, axis=\"columns\")\n",
    "df_usa.head()"
   ]
  },
  {
   "cell_type": "markdown",
   "metadata": {},
   "source": [
    "#### 8d) Replace all 'Nan' values in df_usa with 0. Display the head of the dataframe."
   ]
  },
  {
   "cell_type": "code",
   "execution_count": 39,
   "metadata": {},
   "outputs": [
    {
     "data": {
      "text/html": [
       "<div>\n",
       "<style scoped>\n",
       "    .dataframe tbody tr th:only-of-type {\n",
       "        vertical-align: middle;\n",
       "    }\n",
       "\n",
       "    .dataframe tbody tr th {\n",
       "        vertical-align: top;\n",
       "    }\n",
       "\n",
       "    .dataframe thead th {\n",
       "        text-align: right;\n",
       "    }\n",
       "</style>\n",
       "<table border=\"1\" class=\"dataframe\">\n",
       "  <thead>\n",
       "    <tr style=\"text-align: right;\">\n",
       "      <th></th>\n",
       "      <th>Country</th>\n",
       "      <th>GDP</th>\n",
       "      <th>NRI</th>\n",
       "      <th>PD</th>\n",
       "      <th>Area</th>\n",
       "      <th>Population</th>\n",
       "    </tr>\n",
       "    <tr>\n",
       "      <th>Year</th>\n",
       "      <th></th>\n",
       "      <th></th>\n",
       "      <th></th>\n",
       "      <th></th>\n",
       "      <th></th>\n",
       "      <th></th>\n",
       "    </tr>\n",
       "  </thead>\n",
       "  <tbody>\n",
       "    <tr>\n",
       "      <th>1962-01-01</th>\n",
       "      <td>United States of America</td>\n",
       "      <td>6.050000e+11</td>\n",
       "      <td>0.0</td>\n",
       "      <td>19.93</td>\n",
       "      <td>962909.0</td>\n",
       "      <td>191861.0</td>\n",
       "    </tr>\n",
       "    <tr>\n",
       "      <th>1967-01-01</th>\n",
       "      <td>United States of America</td>\n",
       "      <td>8.620000e+11</td>\n",
       "      <td>0.0</td>\n",
       "      <td>21.16</td>\n",
       "      <td>962909.0</td>\n",
       "      <td>203713.0</td>\n",
       "    </tr>\n",
       "    <tr>\n",
       "      <th>1972-01-01</th>\n",
       "      <td>United States of America</td>\n",
       "      <td>1.280000e+12</td>\n",
       "      <td>0.0</td>\n",
       "      <td>22.14</td>\n",
       "      <td>962909.0</td>\n",
       "      <td>213220.0</td>\n",
       "    </tr>\n",
       "    <tr>\n",
       "      <th>1977-01-01</th>\n",
       "      <td>United States of America</td>\n",
       "      <td>2.090000e+12</td>\n",
       "      <td>0.0</td>\n",
       "      <td>23.17</td>\n",
       "      <td>962909.0</td>\n",
       "      <td>223091.0</td>\n",
       "    </tr>\n",
       "    <tr>\n",
       "      <th>1982-01-01</th>\n",
       "      <td>United States of America</td>\n",
       "      <td>3.340000e+12</td>\n",
       "      <td>0.0</td>\n",
       "      <td>24.30</td>\n",
       "      <td>962909.0</td>\n",
       "      <td>233954.0</td>\n",
       "    </tr>\n",
       "  </tbody>\n",
       "</table>\n",
       "</div>"
      ],
      "text/plain": [
       "                             Country           GDP  NRI     PD      Area  \\\n",
       "Year                                                                       \n",
       "1962-01-01  United States of America  6.050000e+11  0.0  19.93  962909.0   \n",
       "1967-01-01  United States of America  8.620000e+11  0.0  21.16  962909.0   \n",
       "1972-01-01  United States of America  1.280000e+12  0.0  22.14  962909.0   \n",
       "1977-01-01  United States of America  2.090000e+12  0.0  23.17  962909.0   \n",
       "1982-01-01  United States of America  3.340000e+12  0.0  24.30  962909.0   \n",
       "\n",
       "            Population  \n",
       "Year                    \n",
       "1962-01-01    191861.0  \n",
       "1967-01-01    203713.0  \n",
       "1972-01-01    213220.0  \n",
       "1977-01-01    223091.0  \n",
       "1982-01-01    233954.0  "
      ]
     },
     "execution_count": 39,
     "metadata": {},
     "output_type": "execute_result"
    }
   ],
   "source": [
    "# your code here\n",
    "df_usa = df_usa.fillna(value=0)\n",
    "df_usa.head()"
   ]
  },
  {
   "cell_type": "markdown",
   "metadata": {},
   "source": [
    "## Note: Use df_usa\n",
    "\n",
    "#### 9a) Multiply the 'Area' column for all countries by 10 (so instead of 1000 ha, the unit becomes 100 ha = 1km^2). Display the dataframe head.\n"
   ]
  },
  {
   "cell_type": "code",
   "execution_count": 40,
   "metadata": {},
   "outputs": [
    {
     "data": {
      "text/html": [
       "<div>\n",
       "<style scoped>\n",
       "    .dataframe tbody tr th:only-of-type {\n",
       "        vertical-align: middle;\n",
       "    }\n",
       "\n",
       "    .dataframe tbody tr th {\n",
       "        vertical-align: top;\n",
       "    }\n",
       "\n",
       "    .dataframe thead th {\n",
       "        text-align: right;\n",
       "    }\n",
       "</style>\n",
       "<table border=\"1\" class=\"dataframe\">\n",
       "  <thead>\n",
       "    <tr style=\"text-align: right;\">\n",
       "      <th></th>\n",
       "      <th>Country</th>\n",
       "      <th>GDP</th>\n",
       "      <th>NRI</th>\n",
       "      <th>PD</th>\n",
       "      <th>Area</th>\n",
       "      <th>Population</th>\n",
       "    </tr>\n",
       "    <tr>\n",
       "      <th>Year</th>\n",
       "      <th></th>\n",
       "      <th></th>\n",
       "      <th></th>\n",
       "      <th></th>\n",
       "      <th></th>\n",
       "      <th></th>\n",
       "    </tr>\n",
       "  </thead>\n",
       "  <tbody>\n",
       "    <tr>\n",
       "      <th>1962-01-01</th>\n",
       "      <td>United States of America</td>\n",
       "      <td>6.050000e+11</td>\n",
       "      <td>0.0</td>\n",
       "      <td>19.93</td>\n",
       "      <td>9629090.0</td>\n",
       "      <td>191861.0</td>\n",
       "    </tr>\n",
       "    <tr>\n",
       "      <th>1967-01-01</th>\n",
       "      <td>United States of America</td>\n",
       "      <td>8.620000e+11</td>\n",
       "      <td>0.0</td>\n",
       "      <td>21.16</td>\n",
       "      <td>9629090.0</td>\n",
       "      <td>203713.0</td>\n",
       "    </tr>\n",
       "    <tr>\n",
       "      <th>1972-01-01</th>\n",
       "      <td>United States of America</td>\n",
       "      <td>1.280000e+12</td>\n",
       "      <td>0.0</td>\n",
       "      <td>22.14</td>\n",
       "      <td>9629090.0</td>\n",
       "      <td>213220.0</td>\n",
       "    </tr>\n",
       "    <tr>\n",
       "      <th>1977-01-01</th>\n",
       "      <td>United States of America</td>\n",
       "      <td>2.090000e+12</td>\n",
       "      <td>0.0</td>\n",
       "      <td>23.17</td>\n",
       "      <td>9629090.0</td>\n",
       "      <td>223091.0</td>\n",
       "    </tr>\n",
       "    <tr>\n",
       "      <th>1982-01-01</th>\n",
       "      <td>United States of America</td>\n",
       "      <td>3.340000e+12</td>\n",
       "      <td>0.0</td>\n",
       "      <td>24.30</td>\n",
       "      <td>9629090.0</td>\n",
       "      <td>233954.0</td>\n",
       "    </tr>\n",
       "  </tbody>\n",
       "</table>\n",
       "</div>"
      ],
      "text/plain": [
       "                             Country           GDP  NRI     PD       Area  \\\n",
       "Year                                                                        \n",
       "1962-01-01  United States of America  6.050000e+11  0.0  19.93  9629090.0   \n",
       "1967-01-01  United States of America  8.620000e+11  0.0  21.16  9629090.0   \n",
       "1972-01-01  United States of America  1.280000e+12  0.0  22.14  9629090.0   \n",
       "1977-01-01  United States of America  2.090000e+12  0.0  23.17  9629090.0   \n",
       "1982-01-01  United States of America  3.340000e+12  0.0  24.30  9629090.0   \n",
       "\n",
       "            Population  \n",
       "Year                    \n",
       "1962-01-01    191861.0  \n",
       "1967-01-01    203713.0  \n",
       "1972-01-01    213220.0  \n",
       "1977-01-01    223091.0  \n",
       "1982-01-01    233954.0  "
      ]
     },
     "execution_count": 40,
     "metadata": {},
     "output_type": "execute_result"
    }
   ],
   "source": [
    "# your code here\n",
    "df_usa[\"Area\"] *= 10\n",
    "df_usa.head()"
   ]
  },
  {
   "cell_type": "markdown",
   "metadata": {},
   "source": [
    "\n",
    "#### 9b) Create a new column in df_usa called 'GDP/capita' and populate it with the calculated GDP per capita. Round the results to two decimal points. Display the dataframe head.\n",
    "GDP per capita = (GDP / Population)"
   ]
  },
  {
   "cell_type": "code",
   "execution_count": 41,
   "metadata": {},
   "outputs": [
    {
     "data": {
      "text/html": [
       "<div>\n",
       "<style scoped>\n",
       "    .dataframe tbody tr th:only-of-type {\n",
       "        vertical-align: middle;\n",
       "    }\n",
       "\n",
       "    .dataframe tbody tr th {\n",
       "        vertical-align: top;\n",
       "    }\n",
       "\n",
       "    .dataframe thead th {\n",
       "        text-align: right;\n",
       "    }\n",
       "</style>\n",
       "<table border=\"1\" class=\"dataframe\">\n",
       "  <thead>\n",
       "    <tr style=\"text-align: right;\">\n",
       "      <th></th>\n",
       "      <th>Country</th>\n",
       "      <th>GDP</th>\n",
       "      <th>NRI</th>\n",
       "      <th>PD</th>\n",
       "      <th>Area</th>\n",
       "      <th>Population</th>\n",
       "      <th>GDP/capita</th>\n",
       "    </tr>\n",
       "    <tr>\n",
       "      <th>Year</th>\n",
       "      <th></th>\n",
       "      <th></th>\n",
       "      <th></th>\n",
       "      <th></th>\n",
       "      <th></th>\n",
       "      <th></th>\n",
       "      <th></th>\n",
       "    </tr>\n",
       "  </thead>\n",
       "  <tbody>\n",
       "    <tr>\n",
       "      <th>1962-01-01</th>\n",
       "      <td>United States of America</td>\n",
       "      <td>6.050000e+11</td>\n",
       "      <td>0.0</td>\n",
       "      <td>19.93</td>\n",
       "      <td>9629090.0</td>\n",
       "      <td>191861.0</td>\n",
       "      <td>3153324.54</td>\n",
       "    </tr>\n",
       "    <tr>\n",
       "      <th>1967-01-01</th>\n",
       "      <td>United States of America</td>\n",
       "      <td>8.620000e+11</td>\n",
       "      <td>0.0</td>\n",
       "      <td>21.16</td>\n",
       "      <td>9629090.0</td>\n",
       "      <td>203713.0</td>\n",
       "      <td>4231443.26</td>\n",
       "    </tr>\n",
       "    <tr>\n",
       "      <th>1972-01-01</th>\n",
       "      <td>United States of America</td>\n",
       "      <td>1.280000e+12</td>\n",
       "      <td>0.0</td>\n",
       "      <td>22.14</td>\n",
       "      <td>9629090.0</td>\n",
       "      <td>213220.0</td>\n",
       "      <td>6003189.19</td>\n",
       "    </tr>\n",
       "    <tr>\n",
       "      <th>1977-01-01</th>\n",
       "      <td>United States of America</td>\n",
       "      <td>2.090000e+12</td>\n",
       "      <td>0.0</td>\n",
       "      <td>23.17</td>\n",
       "      <td>9629090.0</td>\n",
       "      <td>223091.0</td>\n",
       "      <td>9368374.34</td>\n",
       "    </tr>\n",
       "    <tr>\n",
       "      <th>1982-01-01</th>\n",
       "      <td>United States of America</td>\n",
       "      <td>3.340000e+12</td>\n",
       "      <td>0.0</td>\n",
       "      <td>24.30</td>\n",
       "      <td>9629090.0</td>\n",
       "      <td>233954.0</td>\n",
       "      <td>14276310.73</td>\n",
       "    </tr>\n",
       "  </tbody>\n",
       "</table>\n",
       "</div>"
      ],
      "text/plain": [
       "                             Country           GDP  NRI     PD       Area  \\\n",
       "Year                                                                        \n",
       "1962-01-01  United States of America  6.050000e+11  0.0  19.93  9629090.0   \n",
       "1967-01-01  United States of America  8.620000e+11  0.0  21.16  9629090.0   \n",
       "1972-01-01  United States of America  1.280000e+12  0.0  22.14  9629090.0   \n",
       "1977-01-01  United States of America  2.090000e+12  0.0  23.17  9629090.0   \n",
       "1982-01-01  United States of America  3.340000e+12  0.0  24.30  9629090.0   \n",
       "\n",
       "            Population   GDP/capita  \n",
       "Year                                 \n",
       "1962-01-01    191861.0   3153324.54  \n",
       "1967-01-01    203713.0   4231443.26  \n",
       "1972-01-01    213220.0   6003189.19  \n",
       "1977-01-01    223091.0   9368374.34  \n",
       "1982-01-01    233954.0  14276310.73  "
      ]
     },
     "execution_count": 41,
     "metadata": {},
     "output_type": "execute_result"
    }
   ],
   "source": [
    "# your code here\n",
    "df_usa[\"GDP/capita\"] = (df_usa[\"GDP\"]/df_usa[\"Population\"]).round(2)\n",
    "df_usa.head()"
   ]
  },
  {
   "cell_type": "markdown",
   "metadata": {},
   "source": [
    "\n",
    "#### 9c) Find the maximum value of the 'NRI' column in the US (using pandas methods). What year does the max value occur? Display the values."
   ]
  },
  {
   "cell_type": "code",
   "execution_count": 42,
   "metadata": {},
   "outputs": [
    {
     "name": "stdout",
     "output_type": "stream",
     "text": [
      "Maximum NRI:  1020.0\n",
      "Year of Max NRI:  1992\n"
     ]
    }
   ],
   "source": [
    "# your code here\n",
    "max_NRI = df_usa.max(axis=0)['NRI']\n",
    "print(\"Maximum NRI: \", max_NRI)\n",
    "\n",
    "yr = df_usa[df_usa[\"NRI\"] == max_NRI]\n",
    "print(\"Year of Max NRI: \", str(yr.index.values[0])[0:4])"
   ]
  },
  {
   "cell_type": "code",
   "execution_count": null,
   "metadata": {},
   "outputs": [],
   "source": []
  }
 ],
 "metadata": {
  "anaconda-cloud": {},
  "kernelspec": {
   "display_name": "Python 3",
   "language": "python",
   "name": "python3"
  },
  "language_info": {
   "codemirror_mode": {
    "name": "ipython",
    "version": 3
   },
   "file_extension": ".py",
   "mimetype": "text/x-python",
   "name": "python",
   "nbconvert_exporter": "python",
   "pygments_lexer": "ipython3",
   "version": "3.7.1"
  }
 },
 "nbformat": 4,
 "nbformat_minor": 1
}
